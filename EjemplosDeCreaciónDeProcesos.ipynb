{
  "nbformat": 4,
  "nbformat_minor": 0,
  "metadata": {
    "colab": {
      "provenance": [],
      "authorship_tag": "ABX9TyNfOa16XvSqhHebrCZtQiOo",
      "include_colab_link": true
    },
    "kernelspec": {
      "name": "python3",
      "display_name": "Python 3"
    },
    "language_info": {
      "name": "python"
    }
  },
  "cells": [
    {
      "cell_type": "markdown",
      "metadata": {
        "id": "view-in-github",
        "colab_type": "text"
      },
      "source": [
        "<a href=\"https://colab.research.google.com/github/profesorKiki/Ejemplos_Colab/blob/main/EjemplosDeCreaci%C3%B3nDeProcesos.ipynb\" target=\"_parent\"><img src=\"https://colab.research.google.com/assets/colab-badge.svg\" alt=\"Open In Colab\"/></a>"
      ]
    },
    {
      "cell_type": "markdown",
      "source": [
        "# Práctica de procesos "
      ],
      "metadata": {
        "id": "O-jNV8PNf0XK"
      }
    },
    {
      "cell_type": "markdown",
      "source": [
        "Ejemplo en **Python**"
      ],
      "metadata": {
        "id": "L49n8MeYF7yU"
      }
    },
    {
      "cell_type": "code",
      "execution_count": 27,
      "metadata": {
        "colab": {
          "base_uri": "https://localhost:8080/"
        },
        "id": "77B0w4e3e2Nz",
        "outputId": "ea034892-3f43-44af-9743-eea3c9c05989"
      },
      "outputs": [
        {
          "output_type": "stream",
          "name": "stdout",
          "text": [
            "Overwriting fork.py\n"
          ]
        }
      ],
      "source": [
        "%%writefile fork.py \n",
        "import sys\n",
        "import os\n",
        "import time\n",
        "\t\n",
        "def parent():    \n",
        "    for i in range(2):    \n",
        "      pid = os.fork()\n",
        "      if pid < 0:\n",
        "          print(\"Error al crear el nuevo proceso\")\n",
        "          os._exit(1)\n",
        "      \n",
        "      if pid == 0:\n",
        "          print(f\"Hijo {i+1} ({ os.getpid() }) - Mi padre es ({ os.getppid() })\" )\n",
        "          time.sleep(10)\n",
        "          sys.stdout.flush() #Para forzar la salida de los hijos cuando se redirige al archivo\n",
        "          os._exit(0)\n",
        "    \n",
        "    print(f\"Proceso padre ({ os.getpid() })\" )\n",
        "    for _ in range(2):    \n",
        "      print( os.wait() )\n",
        "      \n",
        "parent()"
      ]
    },
    {
      "cell_type": "code",
      "source": [
        "!chmod 700 ./fork.py"
      ],
      "metadata": {
        "id": "8C6mJxPd3GvF"
      },
      "execution_count": 28,
      "outputs": []
    },
    {
      "cell_type": "code",
      "source": [
        "!nohup python fork.py 1>salida 2>/dev/null &"
      ],
      "metadata": {
        "id": "TDs2yk5H31wL"
      },
      "execution_count": 29,
      "outputs": []
    },
    {
      "cell_type": "code",
      "source": [
        "!pstree -pc "
      ],
      "metadata": {
        "colab": {
          "base_uri": "https://localhost:8080/"
        },
        "id": "Uv_ReTVE38Kh",
        "outputId": "c25fb3ee-1dfe-46a4-935d-a046e9da7762"
      },
      "execution_count": 30,
      "outputs": [
        {
          "output_type": "stream",
          "name": "stdout",
          "text": [
            "docker-init(1)─┬─node(8)─┬─colab-fileshim.(61)\n",
            "               │         ├─dap_multiplexer(83)─┬─{dap_multiplexer}(84)\n",
            "               │         │                     ├─{dap_multiplexer}(85)\n",
            "               │         │                     ├─{dap_multiplexer}(86)\n",
            "               │         │                     └─{dap_multiplexer}(87)\n",
            "               │         ├─jupyter-noteboo(82)─┬─python3(54836)─┬─pstree(61451)\n",
            "               │         │                     │                ├─{python3}(54841)\n",
            "               │         │                     │                ├─{python3}(54842)\n",
            "               │         │                     │                ├─{python3}(54843)\n",
            "               │         │                     │                ├─{python3}(54844)\n",
            "               │         │                     │                ├─{python3}(54845)\n",
            "               │         │                     │                ├─{python3}(54846)\n",
            "               │         │                     │                ├─{python3}(54848)\n",
            "               │         │                     │                ├─{python3}(56392)\n",
            "               │         │                     │                ├─{python3}(56394)\n",
            "               │         │                     │                ├─{python3}(56396)\n",
            "               │         │                     │                ├─{python3}(56397)\n",
            "               │         │                     │                ├─{python3}(56409)\n",
            "               │         │                     │                ├─{python3}(59530)\n",
            "               │         │                     │                ├─{python3}(59531)\n",
            "               │         │                     │                └─{python3}(59532)\n",
            "               │         │                     ├─{jupyter-noteboo}(104)\n",
            "               │         │                     ├─{jupyter-noteboo}(105)\n",
            "               │         │                     ├─{jupyter-noteboo}(106)\n",
            "               │         │                     ├─{jupyter-noteboo}(140)\n",
            "               │         │                     └─{jupyter-noteboo}(141)\n",
            "               │         ├─node(56420)─┬─{node}(56421)\n",
            "               │         │             ├─{node}(56422)\n",
            "               │         │             ├─{node}(56423)\n",
            "               │         │             ├─{node}(56424)\n",
            "               │         │             ├─{node}(56425)\n",
            "               │         │             ├─{node}(56426)\n",
            "               │         │             └─{node}(56434)\n",
            "               │         ├─oom_monitor.sh(30)───sleep(61450)\n",
            "               │         ├─python3(60)\n",
            "               │         ├─{node}(64)\n",
            "               │         ├─{node}(65)\n",
            "               │         ├─{node}(66)\n",
            "               │         ├─{node}(67)\n",
            "               │         ├─{node}(68)\n",
            "               │         ├─{node}(73)\n",
            "               │         ├─{node}(78)\n",
            "               │         ├─{node}(79)\n",
            "               │         ├─{node}(80)\n",
            "               │         └─{node}(81)\n",
            "               ├─python3(189)─┬─{python3}(190)\n",
            "               │              ├─{python3}(191)\n",
            "               │              ├─{python3}(193)\n",
            "               │              ├─{python3}(195)\n",
            "               │              ├─{python3}(238)\n",
            "               │              └─{python3}(239)\n",
            "               ├─python3(54796)\n",
            "               ├─python3(54799)\n",
            "               ├─python3(56389)─┬─{python3}(56390)\n",
            "               │                ├─{python3}(56391)\n",
            "               │                ├─{python3}(56393)\n",
            "               │                ├─{python3}(56395)\n",
            "               │                ├─{python3}(56427)\n",
            "               │                └─{python3}(56428)\n",
            "               ├─python3(61428)─┬─python3(61435)\n",
            "               │                └─python3(61436)\n",
            "               └─run.sh(32)───kernel_manager_(34)─┬─{kernel_manager_}(46)\n",
            "                                                  ├─{kernel_manager_}(47)\n",
            "                                                  ├─{kernel_manager_}(48)\n",
            "                                                  └─{kernel_manager_}(49)\n"
          ]
        }
      ]
    },
    {
      "cell_type": "markdown",
      "source": [
        "Ejemplo en **C**"
      ],
      "metadata": {
        "id": "R2Pnn_u1Zcu7"
      }
    },
    {
      "cell_type": "code",
      "source": [
        "%%writefile fork.c\n",
        "#include <stdlib.h>\n",
        "#include <stdio.h>\n",
        "#include <unistd.h>\n",
        "#include <sys/wait.h>\n",
        "\n",
        "int main(int argc, char *argv[])\n",
        "{\n",
        "    pid_t pid;\n",
        "    pid = fork();\n",
        "    \n",
        "    if( pid < 0 )\n",
        "    {\n",
        "        printf(\"Error al crear el nuevo proceso\\n\");\n",
        "        return EXIT_FAILURE;\n",
        "    }\n",
        "    \n",
        "    if( pid )\n",
        "    {\n",
        "        printf(\"Soy el proceso padre. PID: %d\\n\",getpid());\n",
        "        wait(NULL);\n",
        "    }\n",
        "    else\n",
        "    {\n",
        "        printf(\"Soy el proceso hijo. PID: %d\\n\",getpid());\n",
        "        printf(\"Mi padre es el proceso con PID: %d\\n\",getppid());\n",
        "        sleep(10);\n",
        "        return EXIT_SUCCESS;\t\n",
        "    }\n",
        "\n",
        "    return EXIT_SUCCESS;\n",
        "}"
      ],
      "metadata": {
        "colab": {
          "base_uri": "https://localhost:8080/"
        },
        "id": "Hr0IFTA_AFHU",
        "outputId": "e091a4b6-74d6-4c39-cc70-60682bf0cc99"
      },
      "execution_count": 38,
      "outputs": [
        {
          "output_type": "stream",
          "name": "stdout",
          "text": [
            "Overwriting fork.c\n"
          ]
        }
      ]
    },
    {
      "cell_type": "code",
      "source": [
        "!gcc -o fork.bin fork.c "
      ],
      "metadata": {
        "id": "GPj6LeaQ7pYT"
      },
      "execution_count": 39,
      "outputs": []
    },
    {
      "cell_type": "code",
      "source": [
        "!nohup ./fork.bin 1>salida 2>/dev/null & "
      ],
      "metadata": {
        "id": "bcCqDZ0pBNmB"
      },
      "execution_count": 46,
      "outputs": []
    },
    {
      "cell_type": "code",
      "source": [
        "!pstree -pc"
      ],
      "metadata": {
        "colab": {
          "base_uri": "https://localhost:8080/"
        },
        "id": "_0LhAVhcBdpa",
        "outputId": "7613f1e7-fa8e-498d-8beb-0caf0057d0b8"
      },
      "execution_count": 47,
      "outputs": [
        {
          "output_type": "stream",
          "name": "stdout",
          "text": [
            "docker-init(1)─┬─fork.bin(63945)───fork.bin(63946)\n",
            "               ├─node(8)─┬─colab-fileshim.(61)\n",
            "               │         ├─dap_multiplexer(83)─┬─{dap_multiplexer}(84)\n",
            "               │         │                     ├─{dap_multiplexer}(85)\n",
            "               │         │                     ├─{dap_multiplexer}(86)\n",
            "               │         │                     └─{dap_multiplexer}(87)\n",
            "               │         ├─jupyter-noteboo(82)─┬─python3(54836)─┬─pstree(63957)\n",
            "               │         │                     │                ├─{python3}(54841)\n",
            "               │         │                     │                ├─{python3}(54842)\n",
            "               │         │                     │                ├─{python3}(54843)\n",
            "               │         │                     │                ├─{python3}(54844)\n",
            "               │         │                     │                ├─{python3}(54845)\n",
            "               │         │                     │                ├─{python3}(54846)\n",
            "               │         │                     │                ├─{python3}(54848)\n",
            "               │         │                     │                ├─{python3}(56392)\n",
            "               │         │                     │                ├─{python3}(56394)\n",
            "               │         │                     │                ├─{python3}(56396)\n",
            "               │         │                     │                ├─{python3}(56397)\n",
            "               │         │                     │                ├─{python3}(56409)\n",
            "               │         │                     │                ├─{python3}(59530)\n",
            "               │         │                     │                ├─{python3}(59531)\n",
            "               │         │                     │                └─{python3}(59532)\n",
            "               │         │                     ├─{jupyter-noteboo}(104)\n",
            "               │         │                     ├─{jupyter-noteboo}(105)\n",
            "               │         │                     ├─{jupyter-noteboo}(106)\n",
            "               │         │                     ├─{jupyter-noteboo}(140)\n",
            "               │         │                     └─{jupyter-noteboo}(141)\n",
            "               │         ├─node(56420)─┬─{node}(56421)\n",
            "               │         │             ├─{node}(56422)\n",
            "               │         │             ├─{node}(56423)\n",
            "               │         │             ├─{node}(56424)\n",
            "               │         │             ├─{node}(56425)\n",
            "               │         │             ├─{node}(56426)\n",
            "               │         │             └─{node}(56434)\n",
            "               │         ├─oom_monitor.sh(30)───sleep(63956)\n",
            "               │         ├─python3(60)\n",
            "               │         ├─{node}(64)\n",
            "               │         ├─{node}(65)\n",
            "               │         ├─{node}(66)\n",
            "               │         ├─{node}(67)\n",
            "               │         ├─{node}(68)\n",
            "               │         ├─{node}(73)\n",
            "               │         ├─{node}(78)\n",
            "               │         ├─{node}(79)\n",
            "               │         ├─{node}(80)\n",
            "               │         └─{node}(81)\n",
            "               ├─python3(189)─┬─{python3}(190)\n",
            "               │              ├─{python3}(191)\n",
            "               │              ├─{python3}(193)\n",
            "               │              ├─{python3}(195)\n",
            "               │              ├─{python3}(238)\n",
            "               │              └─{python3}(239)\n",
            "               ├─python3(54796)\n",
            "               ├─python3(54799)\n",
            "               ├─python3(56389)─┬─{python3}(56390)\n",
            "               │                ├─{python3}(56391)\n",
            "               │                ├─{python3}(56393)\n",
            "               │                ├─{python3}(56395)\n",
            "               │                ├─{python3}(56427)\n",
            "               │                └─{python3}(56428)\n",
            "               └─run.sh(32)───kernel_manager_(34)─┬─{kernel_manager_}(46)\n",
            "                                                  ├─{kernel_manager_}(47)\n",
            "                                                  ├─{kernel_manager_}(48)\n",
            "                                                  └─{kernel_manager_}(49)\n"
          ]
        }
      ]
    },
    {
      "cell_type": "markdown",
      "source": [
        "Ejemplo en **Java**"
      ],
      "metadata": {
        "id": "iBi2IVjAbsu7"
      }
    },
    {
      "cell_type": "code",
      "source": [
        "%%writefile crear_proceso.java\n",
        "import java.io.IOException;\n",
        "\n",
        "public class Main\n",
        "{\n",
        "    public static void main(String[] args) throws IOException,  InterruptedException\n",
        "    {\n",
        "        ProcessBuilder pb = new ProcessBuilder(\"java\", \"Hijo.java\");\n",
        "        pb.redirectErrorStream(true);\n",
        "        pb.inheritIO();\n",
        "        \n",
        "        Process proceso = pb.start();\n",
        "        \n",
        "        int error = proceso.waitFor();\n",
        "        \n",
        "        if( error != 0 )\n",
        "        {\n",
        "            System.out.println(\"Error al ejecutar el programa\");\n",
        "        }\n",
        "    }\n",
        "}"
      ],
      "metadata": {
        "id": "AAmu_hh_BkrC",
        "colab": {
          "base_uri": "https://localhost:8080/"
        },
        "outputId": "43ad946a-7b43-4dce-b544-d2c04c44d867"
      },
      "execution_count": 61,
      "outputs": [
        {
          "output_type": "stream",
          "name": "stdout",
          "text": [
            "Overwriting crear_proceso.java\n"
          ]
        }
      ]
    },
    {
      "cell_type": "code",
      "source": [
        "%%writefile Hijo.java\n",
        "class Hijo \n",
        "{\n",
        "    public static void main(String[] args) throws InterruptedException\n",
        "    {\n",
        "        ProcessHandle yo = ProcessHandle.current();\n",
        "        long pid  = yo.pid();\n",
        "        long ppid = yo.parent().get().pid();\n",
        "        System.out.println(\"Soy el proceso: \" + pid + \" y mi padre es: \" + ppid );\n",
        "        Thread.sleep(10000);\n",
        "    }\n",
        "}"
      ],
      "metadata": {
        "colab": {
          "base_uri": "https://localhost:8080/"
        },
        "id": "y6E-vq1cd6nE",
        "outputId": "049b023b-3183-4d4a-afda-ab680adf112a"
      },
      "execution_count": 68,
      "outputs": [
        {
          "output_type": "stream",
          "name": "stdout",
          "text": [
            "Overwriting Hijo.java\n"
          ]
        }
      ]
    },
    {
      "cell_type": "code",
      "source": [
        "!nohup java crear_proceso.java 1>salida 2>/dev/null &  "
      ],
      "metadata": {
        "id": "_iGE3rCQeSQK"
      },
      "execution_count": 75,
      "outputs": []
    },
    {
      "cell_type": "code",
      "source": [
        "!pstree -pT"
      ],
      "metadata": {
        "colab": {
          "base_uri": "https://localhost:8080/"
        },
        "id": "VHh3qxEQehA7",
        "outputId": "1e6b3b4f-f0f7-4ce1-f15c-fe1fc32afced"
      },
      "execution_count": 76,
      "outputs": [
        {
          "output_type": "stream",
          "name": "stdout",
          "text": [
            "docker-init(1)─┬─java(72528)───java(72550)\n",
            "               ├─node(8)─┬─colab-fileshim.(61)\n",
            "               │         ├─dap_multiplexer(83)\n",
            "               │         ├─jupyter-noteboo(82)───python3(54836)───pstree(72578)\n",
            "               │         ├─node(56420)\n",
            "               │         ├─oom_monitor.sh(30)───sleep(72577)\n",
            "               │         └─python3(60)\n",
            "               ├─python3(189)\n",
            "               ├─python3(54796)\n",
            "               ├─python3(54799)\n",
            "               ├─python3(56389)\n",
            "               └─run.sh(32)───kernel_manager_(34)\n"
          ]
        }
      ]
    }
  ]
}