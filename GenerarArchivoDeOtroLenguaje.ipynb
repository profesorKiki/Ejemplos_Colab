{
  "nbformat": 4,
  "nbformat_minor": 0,
  "metadata": {
    "colab": {
      "provenance": [],
      "authorship_tag": "ABX9TyPtrpgPUDlhaRDs8aKId0Ec",
      "include_colab_link": true
    },
    "kernelspec": {
      "name": "python3",
      "display_name": "Python 3"
    },
    "language_info": {
      "name": "python"
    }
  },
  "cells": [
    {
      "cell_type": "markdown",
      "metadata": {
        "id": "view-in-github",
        "colab_type": "text"
      },
      "source": [
        "<a href=\"https://colab.research.google.com/github/profesorKiki/Ejemplos_Colab/blob/main/GenerarArchivoDeOtroLenguaje.ipynb\" target=\"_parent\"><img src=\"https://colab.research.google.com/assets/colab-badge.svg\" alt=\"Open In Colab\"/></a>"
      ]
    },
    {
      "cell_type": "code",
      "execution_count": 4,
      "metadata": {
        "colab": {
          "base_uri": "https://localhost:8080/"
        },
        "id": "AWy7CENQXaed",
        "outputId": "56688731-a3aa-4981-aa8d-eedcf620c933"
      },
      "outputs": [
        {
          "output_type": "stream",
          "name": "stdout",
          "text": [
            "Writing holamundo.java\n"
          ]
        }
      ],
      "source": [
        "%%writefile holamundo.java\n",
        "class HolaMundo \n",
        "{\n",
        "\tpublic static void main(String[] args)\n",
        "\t{\n",
        "    \tSystem.out.println(\"Hola Mundo!\");\n",
        " \t}\n",
        "}"
      ]
    },
    {
      "cell_type": "code",
      "source": [
        "!java holamundo.java"
      ],
      "metadata": {
        "colab": {
          "base_uri": "https://localhost:8080/"
        },
        "id": "mkRA3sg6Zy6Y",
        "outputId": "28d02374-c931-4274-81e4-cf796c4f26c5"
      },
      "execution_count": 5,
      "outputs": [
        {
          "output_type": "stream",
          "name": "stdout",
          "text": [
            "Hola Mundo!\n"
          ]
        }
      ]
    }
  ]
}