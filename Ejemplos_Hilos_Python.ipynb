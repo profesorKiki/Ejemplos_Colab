{
  "nbformat": 4,
  "nbformat_minor": 0,
  "metadata": {
    "colab": {
      "provenance": [],
      "authorship_tag": "ABX9TyM9oh5PedKKfT/3/zzaOxD6",
      "include_colab_link": true
    },
    "kernelspec": {
      "name": "python3",
      "display_name": "Python 3"
    },
    "language_info": {
      "name": "python"
    }
  },
  "cells": [
    {
      "cell_type": "markdown",
      "metadata": {
        "id": "view-in-github",
        "colab_type": "text"
      },
      "source": [
        "<a href=\"https://colab.research.google.com/github/profesorKiki/Ejemplos_Colab/blob/main/Ejemplos_Hilos_Python.ipynb\" target=\"_parent\"><img src=\"https://colab.research.google.com/assets/colab-badge.svg\" alt=\"Open In Colab\"/></a>"
      ]
    },
    {
      "cell_type": "code",
      "source": [
        "import threading\n",
        "import sys\n",
        "\n",
        "def show_tid():\n",
        "    sys.stdout.write(\"TID \"+str(threading.get_native_id())+\"\\n\")\n",
        "    # En caso de querer utilizar print, se debe sincronizar\n",
        "    # para una correcta salida por pantalla.\n",
        "    #print(\"TID \"+str(threading.get_native_id()))\n",
        "\n",
        "def main():\n",
        "    my_thread = threading.Thread(target=show_tid, daemon=False)\n",
        "\n",
        "    my_thread.start()\n",
        "\n",
        "    print( my_thread.name, my_thread.is_alive())\n",
        "\n",
        "    my_thread.join()\n",
        "\n",
        "if __name__ == '__main__':\n",
        "    main()\n"
      ],
      "metadata": {
        "colab": {
          "base_uri": "https://localhost:8080/"
        },
        "id": "XEDN8LFLKhh1",
        "outputId": "772adaba-f96e-4481-8d4e-1dc3503e448d"
      },
      "execution_count": null,
      "outputs": [
        {
          "output_type": "stream",
          "name": "stdout",
          "text": [
            "TID 11001\n",
            "Thread-100 (show_tid) True\n"
          ]
        }
      ]
    },
    {
      "cell_type": "code",
      "execution_count": null,
      "metadata": {
        "colab": {
          "base_uri": "https://localhost:8080/"
        },
        "id": "sK8uPYSO6qNi",
        "outputId": "25040945-5f8d-47ea-952f-2d2bd3d6757b"
      },
      "outputs": [
        {
          "output_type": "stream",
          "name": "stdout",
          "text": [
            "TID 799892\n",
            "TID 799893\n",
            "TID 799894\n",
            "TID 799895\n",
            "TID 799896\n",
            "Thread-770881 (show_tid) False\n",
            "Thread-770882 (show_tid) False\n",
            "Thread-770883 (show_tid) False\n",
            "Thread-770884 (show_tid) False\n",
            "Thread-770885 (show_tid) True\n"
          ]
        }
      ],
      "source": [
        "import threading\n",
        "import time\n",
        "\n",
        "MAX_THREADS = 5\n",
        "\n",
        "def show_tid():\n",
        "    #time.sleep(2)\n",
        "    sys.stdout.write(\"TID \"+str(threading.get_native_id())+\"\\n\")\n",
        "    #print(\"TID \"+str(threading.get_native_id()))\n",
        "    #time.sleep(2)\n",
        "\n",
        "def main():\n",
        "    my_threads = []\n",
        "\n",
        "    for _ in range(MAX_THREADS):\n",
        "        my_threads.append(threading.Thread(target=show_tid, daemon=True))\n",
        "\n",
        "    for i in range(MAX_THREADS):\n",
        "        my_threads[i].start()\n",
        "\n",
        "    #time.sleep(2)\n",
        "    for thread in my_threads:\n",
        "        print(thread.name, thread.is_alive())\n",
        "\n",
        "    for i in range(MAX_THREADS):\n",
        "        my_threads[i].join()\n",
        "\n",
        "if __name__ == '__main__':\n",
        "    main()"
      ]
    }
  ]
}