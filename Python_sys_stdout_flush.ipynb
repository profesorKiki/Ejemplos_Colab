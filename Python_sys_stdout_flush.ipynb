{
  "nbformat": 4,
  "nbformat_minor": 0,
  "metadata": {
    "colab": {
      "provenance": [],
      "authorship_tag": "ABX9TyOV3i1lpYPsdJ8W7c4yma/0",
      "include_colab_link": true
    },
    "kernelspec": {
      "name": "python3",
      "display_name": "Python 3"
    },
    "language_info": {
      "name": "python"
    }
  },
  "cells": [
    {
      "cell_type": "markdown",
      "metadata": {
        "id": "view-in-github",
        "colab_type": "text"
      },
      "source": [
        "<a href=\"https://colab.research.google.com/github/profesorKiki/Ejemplos_Colab/blob/main/Python_sys_stdout_flush.ipynb\" target=\"_parent\"><img src=\"https://colab.research.google.com/assets/colab-badge.svg\" alt=\"Open In Colab\"/></a>"
      ]
    },
    {
      "cell_type": "markdown",
      "source": [
        "# flush\n",
        "\n",
        "Al redirigir la salida estándar a un archivo, puede que los hijos no envien su salida al archivo.\n",
        "\n",
        "Alternativa 1)<br>Utilizar sys.stdout.flush() en los hijos para forzar la salida.\n",
        "\n",
        "Alternativa 2)<br>Utilizar flush=True en el print en cuestión.\n"
      ],
      "metadata": {
        "id": "dQ9f5EgB5rwq"
      }
    },
    {
      "cell_type": "code",
      "execution_count": 14,
      "metadata": {
        "colab": {
          "base_uri": "https://localhost:8080/"
        },
        "id": "nOQQnW4q5ckC",
        "outputId": "7f1e7de0-e7ac-4b61-b16b-c353206fa35b"
      },
      "outputs": [
        {
          "output_type": "stream",
          "name": "stdout",
          "text": [
            "Overwriting ejemplo.py\n"
          ]
        }
      ],
      "source": [
        "%%writefile ejemplo.py\n",
        "import os\n",
        "import sys\n",
        "\n",
        "pid = os.fork()\n",
        "\n",
        "if pid < 0:\n",
        "    sys.exit(\"Error al crear el nuevo proceso\")\n",
        "\n",
        "if pid:\n",
        "    print(\"Soy el proceso padre. PID: \", os.getpid() )\n",
        "    print( os.wait() )\n",
        "else:\n",
        "    #Alternativa 2 - flush = True\n",
        "    print(\"Soy el proceso hijo. PID: \",  os.getpid(), flush=True)\n",
        "    print(\"Mi padre es el proceso con PID: \",  os.getppid(), flush=True)\n",
        "\n",
        "    #Alternativa 1\n",
        "    #sys.stdout.flush()\n",
        "    os._exit( os.EX_OK )"
      ]
    },
    {
      "cell_type": "markdown",
      "source": [
        "*Ansi C*"
      ],
      "metadata": {
        "id": "aXGNbgtK7Ksg"
      }
    },
    {
      "cell_type": "code",
      "source": [
        "!python ejemplo.py"
      ],
      "metadata": {
        "id": "UNJ2PnYK8hGw",
        "colab": {
          "base_uri": "https://localhost:8080/"
        },
        "outputId": "53b572c8-b219-4eb0-dbe7-cffb843914ae"
      },
      "execution_count": 15,
      "outputs": [
        {
          "output_type": "stream",
          "name": "stdout",
          "text": [
            "Soy el proceso padre. PID:  1376\n",
            "Soy el proceso hijo. PID:  1382\n",
            "Mi padre es el proceso con PID:  1376\n",
            "(1382, 0)\n"
          ]
        }
      ]
    },
    {
      "cell_type": "code",
      "source": [
        "!nohup python ejemplo.py 1>salida 2>/dev/null &"
      ],
      "metadata": {
        "id": "lJWM4bge6Sel"
      },
      "execution_count": 16,
      "outputs": []
    },
    {
      "cell_type": "code",
      "source": [
        "!cat salida"
      ],
      "metadata": {
        "colab": {
          "base_uri": "https://localhost:8080/"
        },
        "id": "aeymotLs-HCk",
        "outputId": "92579ac0-f459-4c5c-8b24-00370573f7cb"
      },
      "execution_count": 17,
      "outputs": [
        {
          "output_type": "stream",
          "name": "stdout",
          "text": [
            "Soy el proceso hijo. PID:  1394\n",
            "Mi padre es el proceso con PID:  1392\n",
            "Soy el proceso padre. PID:  1392\n",
            "(1394, 0)\n"
          ]
        }
      ]
    }
  ]
}