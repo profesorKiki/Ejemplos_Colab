{
  "nbformat": 4,
  "nbformat_minor": 0,
  "metadata": {
    "colab": {
      "provenance": [],
      "authorship_tag": "ABX9TyNyDv2dMeuaXhA5Sb6553c2",
      "include_colab_link": true
    },
    "kernelspec": {
      "name": "python3",
      "display_name": "Python 3"
    },
    "language_info": {
      "name": "python"
    }
  },
  "cells": [
    {
      "cell_type": "markdown",
      "metadata": {
        "id": "view-in-github",
        "colab_type": "text"
      },
      "source": [
        "<a href=\"https://colab.research.google.com/github/profesorKiki/Ejemplos_Colab/blob/main/Python_sys_stdout_flush.ipynb\" target=\"_parent\"><img src=\"https://colab.research.google.com/assets/colab-badge.svg\" alt=\"Open In Colab\"/></a>"
      ]
    },
    {
      "cell_type": "markdown",
      "source": [
        "# sys.stdout.flush()\n",
        "\n",
        "Al redirigir la salida estándar a un archivo, puede que los hijos no envien su salida al archivo.\n",
        "\n",
        "Utilizar sys.stdout.flush() en los hijos para forzar la salida."
      ],
      "metadata": {
        "id": "dQ9f5EgB5rwq"
      }
    },
    {
      "cell_type": "code",
      "execution_count": null,
      "metadata": {
        "colab": {
          "base_uri": "https://localhost:8080/"
        },
        "id": "nOQQnW4q5ckC",
        "outputId": "cd77625a-4888-4f32-8e2a-4670063a0f85"
      },
      "outputs": [
        {
          "output_type": "stream",
          "name": "stdout",
          "text": [
            "Overwriting ejemplo.py\n"
          ]
        }
      ],
      "source": [
        "%%writefile ejemplo.py\n",
        "import os\n",
        "import sys\n",
        "\n",
        "pid = os.fork()\n",
        "\n",
        "if pid < 0:\n",
        "    sys.exit(\"Error al crear el nuevo proceso\")\n",
        "\n",
        "if pid:\n",
        "    print(\"Soy el proceso padre. PID: \", os.getpid() )\n",
        "    print( os.wait() )\n",
        "else:\n",
        "    print(\"Soy el proceso hijo. PID: \",  os.getpid())\n",
        "    print(\"Mi padre es el proceso con PID: \",  os.getppid())\n",
        "    sys.stdout.flush() #Para enviar la salida de los hijos cuando se redirige al archivo\n",
        "    os._exit( os.EX_OK )"
      ]
    },
    {
      "cell_type": "markdown",
      "source": [
        "*Ansi C*"
      ],
      "metadata": {
        "id": "aXGNbgtK7Ksg"
      }
    },
    {
      "cell_type": "code",
      "source": [
        "!python ejemplo.py"
      ],
      "metadata": {
        "id": "UNJ2PnYK8hGw",
        "colab": {
          "base_uri": "https://localhost:8080/"
        },
        "outputId": "542340eb-3463-4f18-ffc0-f92d6b383550"
      },
      "execution_count": null,
      "outputs": [
        {
          "output_type": "stream",
          "name": "stdout",
          "text": [
            "Soy el proceso padre. PID:  787\n",
            "Soy el proceso hijo. PID:  789\n",
            "Mi padre es el proceso con PID:  787\n",
            "(789, 0)\n"
          ]
        }
      ]
    },
    {
      "cell_type": "code",
      "source": [
        "!nohup python ejemplo.py 1>salida 2>/dev/null &"
      ],
      "metadata": {
        "id": "lJWM4bge6Sel"
      },
      "execution_count": null,
      "outputs": []
    },
    {
      "cell_type": "code",
      "source": [
        "!cat salida"
      ],
      "metadata": {
        "colab": {
          "base_uri": "https://localhost:8080/"
        },
        "id": "aeymotLs-HCk",
        "outputId": "9fc56d23-70bf-465e-fa31-2b52c289e740"
      },
      "execution_count": null,
      "outputs": [
        {
          "output_type": "stream",
          "name": "stdout",
          "text": [
            "Soy el proceso hijo. PID:  774\n",
            "Mi padre es el proceso con PID:  772\n",
            "Soy el proceso padre. PID:  772\n",
            "(774, 0)\n"
          ]
        }
      ]
    }
  ]
}